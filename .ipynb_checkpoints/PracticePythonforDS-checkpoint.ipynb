{
 "cells": [
  {
   "cell_type": "code",
   "execution_count": 38,
   "id": "e92ef5b5",
   "metadata": {},
   "outputs": [],
   "source": [
    "import seaborn as sns\n",
    "import matplotlib.pyplot as plt\n",
    "import pandas as pd\n",
    "titanic_df=pd.read_csv('train copy 2.csv')"
   ]
  },
  {
   "cell_type": "code",
   "execution_count": 40,
   "id": "d84dd5df",
   "metadata": {},
   "outputs": [],
   "source": [
    "titanic_df ['Survived']=titanic_df ['Survived'].map({\n",
    "    0:'Died',\n",
    "    1:'Survived'\n",
    "})"
   ]
  },
  {
   "cell_type": "code",
   "execution_count": 41,
   "id": "9e76dc47",
   "metadata": {},
   "outputs": [
    {
     "name": "stdout",
     "output_type": "stream",
     "text": [
      "   PassengerId  Survived  Pclass  \\\n",
      "0            1      Died       3   \n",
      "1            2  Survived       1   \n",
      "2            3  Survived       3   \n",
      "3            4  Survived       1   \n",
      "4            5      Died       3   \n",
      "\n",
      "                                                Name     Sex   Age  SibSp  \\\n",
      "0                            Braund, Mr. Owen Harris    male  22.0      1   \n",
      "1  Cumings, Mrs. John Bradley (Florence Briggs Th...  female  38.0      1   \n",
      "2                             Heikkinen, Miss. Laina  female  26.0      0   \n",
      "3       Futrelle, Mrs. Jacques Heath (Lily May Peel)  female  35.0      1   \n",
      "4                           Allen, Mr. William Henry    male  35.0      0   \n",
      "\n",
      "   Parch            Ticket     Fare Cabin Embarked  \n",
      "0      0         A/5 21171   7.2500   NaN      NaN  \n",
      "1      0          PC 17599  71.2833   C85        C  \n",
      "2      0  STON/O2. 3101282   7.9250   NaN      NaN  \n",
      "3      0            113803  53.1000  C123      NaN  \n",
      "4      0            373450   8.0500   NaN        S  \n"
     ]
    }
   ],
   "source": [
    "print(titanic_df.head(5))"
   ]
  },
  {
   "cell_type": "code",
   "execution_count": 43,
   "id": "5e98f97e",
   "metadata": {},
   "outputs": [
    {
     "name": "stdout",
     "output_type": "stream",
     "text": [
      "   Survived  Pclass     Sex   Age  SibSp     Fare Cabin Embarked\n",
      "0      Died       3    male  22.0      1   7.2500   NaN      NaN\n",
      "1  Survived       1  female  38.0      1  71.2833   C85        C\n",
      "2  Survived       3  female  26.0      0   7.9250   NaN      NaN\n",
      "3  Survived       1  female  35.0      1  53.1000  C123      NaN\n",
      "4      Died       3    male  35.0      0   8.0500   NaN        S\n"
     ]
    }
   ],
   "source": [
    "titanic_df.drop(['Parch','Ticket','PassengerId','Name'],axis=1,inplace=True)\n",
    "print(titanic_df.head(5))"
   ]
  },
  {
   "cell_type": "code",
   "execution_count": 46,
   "id": "28d4b743",
   "metadata": {},
   "outputs": [
    {
     "name": "stdout",
     "output_type": "stream",
     "text": [
      "   Survived  Pclass     Sex   Age Cabin Embarked\n",
      "0      Died       3    male  22.0   NaN      NaN\n",
      "1  Survived       1  female  38.0   C85        C\n",
      "2  Survived       3  female  26.0   NaN      NaN\n",
      "3  Survived       1  female  35.0  C123      NaN\n",
      "4      Died       3    male  35.0   NaN        S\n"
     ]
    }
   ],
   "source": [
    "titanic_df=titanic_df.drop(['SibSp','Fare'],axis=1)\n",
    "print(titanic_df.head(5))"
   ]
  },
  {
   "cell_type": "code",
   "execution_count": 48,
   "id": "0bc874fc",
   "metadata": {},
   "outputs": [
    {
     "name": "stdout",
     "output_type": "stream",
     "text": [
      "   Survived  Pclass     Sex   Age Cabin Embarked\n",
      "0      Died   Lower    male  22.0   NaN      NaN\n",
      "1  Survived  Luxury  female  38.0   C85        C\n",
      "2  Survived   Lower  female  26.0   NaN      NaN\n",
      "3  Survived  Luxury  female  35.0  C123      NaN\n",
      "4      Died   Lower    male  35.0   NaN        S\n"
     ]
    }
   ],
   "source": [
    "titanic_df['Pclass']=titanic_df['Pclass'].map({\n",
    "    1:'Luxury',\n",
    "    2:'Middle',\n",
    "    3:'Lower'\n",
    "})\n",
    "print(titanic_df.head(5))"
   ]
  },
  {
   "cell_type": "code",
   "execution_count": 50,
   "id": "2d761fc3",
   "metadata": {},
   "outputs": [
    {
     "name": "stdout",
     "output_type": "stream",
     "text": [
      "   Survived  Pclass     Sex   Age Cabin Embarked\n",
      "0      Died   Lower    male  22.0   NaN        S\n",
      "1  Survived  Luxury  female  38.0   C85        C\n",
      "2  Survived   Lower  female  26.0   NaN        S\n",
      "3  Survived  Luxury  female  35.0  C123        S\n",
      "4      Died   Lower    male  35.0   NaN        S\n"
     ]
    }
   ],
   "source": [
    "titanic_df['Embarked']=titanic_df['Embarked'].fillna('S')\n",
    "print(titanic_df.head(5))"
   ]
  },
  {
   "cell_type": "code",
   "execution_count": 52,
   "id": "e417ed11",
   "metadata": {},
   "outputs": [
    {
     "name": "stdout",
     "output_type": "stream",
     "text": [
      "   Survived  Pclass     Sex   Age Cabin       Embarked\n",
      "0      Died   Lower    male  22.0   NaN  South America\n",
      "1  Survived  Luxury  female  38.0   C85          China\n",
      "2  Survived   Lower  female  26.0   NaN  South America\n",
      "3  Survived  Luxury  female  35.0  C123  South America\n",
      "4      Died   Lower    male  35.0   NaN  South America\n"
     ]
    }
   ],
   "source": [
    "titanic_df['Embarked']=titanic_df['Embarked'].map({\n",
    "    'C':'China',\n",
    "    'S':'South America'\n",
    "})\n",
    "print(titanic_df.head(5))"
   ]
  },
  {
   "cell_type": "code",
   "execution_count": null,
   "id": "5caeda06",
   "metadata": {},
   "outputs": [],
   "source": [
    "ax=sns.countplot(x='Pclass',hue='Survived',palette='set1',data=titanic_df)\n",
    "ax.set(title='Passenger status against passenger class',xlabel='Passenger class',ylabel='Total')\n",
    "plt.show()"
   ]
  }
 ],
 "metadata": {
  "kernelspec": {
   "display_name": "Python 3 (ipykernel)",
   "language": "python",
   "name": "python3"
  },
  "language_info": {
   "codemirror_mode": {
    "name": "ipython",
    "version": 3
   },
   "file_extension": ".py",
   "mimetype": "text/x-python",
   "name": "python",
   "nbconvert_exporter": "python",
   "pygments_lexer": "ipython3",
   "version": "3.9.12"
  }
 },
 "nbformat": 4,
 "nbformat_minor": 5
}
