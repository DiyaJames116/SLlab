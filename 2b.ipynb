{
 "cells": [
  {
   "cell_type": "code",
   "execution_count": 3,
   "id": "184b17c9",
   "metadata": {},
   "outputs": [],
   "source": [
    "import numpy as np\n",
    "from functools import reduce\n",
    "file1=open(\"myfile.txt\",\"r\")\n",
    "a=file1.read()"
   ]
  },
  {
   "cell_type": "code",
   "execution_count": 4,
   "id": "415d53a4",
   "metadata": {},
   "outputs": [
    {
     "data": {
      "text/plain": [
       "{'jane': 1,\n",
       " 'tempura': 1,\n",
       " 'share': 1,\n",
       " 'the': 1,\n",
       " 'meal': 1,\n",
       " 'have': 1,\n",
       " 'created': 1,\n",
       " 'vegetable': 1,\n",
       " 'together.': 1,\n",
       " 'served': 1,\n",
       " 'cold,': 1,\n",
       " 'look': 1,\n",
       " 'zaru': 1,\n",
       " 'which': 1,\n",
       " 'is': 1,\n",
       " 'when': 1,\n",
       " 'topped': 1,\n",
       " 'nori.': 1,\n",
       " 'rolls': 1,\n",
       " '(nori': 1,\n",
       " 'was': 1,\n",
       " 'maki': 1,\n",
       " 'vegan': 1,\n",
       " 'will': 1,\n",
       " 'looking': 1,\n",
       " 'sushi.': 1,\n",
       " 'rice)': 1,\n",
       " 'to': 1,\n",
       " 'seaweed': 1,\n",
       " 'nori': 1,\n",
       " 'with': 2,\n",
       " 'udon': 2,\n",
       " 'make': 2,\n",
       " 'we': 2,\n",
       " 'sushi': 2,\n",
       " 'for': 2,\n",
       " 'and': 2}"
      ]
     },
     "execution_count": 4,
     "metadata": {},
     "output_type": "execute_result"
    }
   ],
   "source": [
    "b=a.lower().split(' ')\n",
    "d={}\n",
    "for i in range (len(b)):\n",
    "    if b[i] not in d:\n",
    "        d[b[i]]=1\n",
    "    else:\n",
    "        d[b[i]]+=1\n",
    "keylist=list(d.keys())\n",
    "vallist=list(d.values())\n",
    "vallist1=np.argsort(vallist)\n",
    "d1={keylist[i]:vallist[i] for i in vallist1}\n",
    "d1"
   ]
  },
  {
   "cell_type": "code",
   "execution_count": 5,
   "id": "908a3bdc",
   "metadata": {},
   "outputs": [
    {
     "name": "stdout",
     "output_type": "stream",
     "text": [
      "Top 10 words with most number of occurances: \n",
      "['served', 'together.', 'vegetable', 'created', 'have', 'meal', 'the', 'share', 'tempura', 'jane']\n"
     ]
    }
   ],
   "source": [
    "print(\"Top 10 words with most number of occurances: \")\n",
    "count=0\n",
    "words=[]\n",
    "for i in d1:\n",
    "    count+=1\n",
    "    words.append(i)\n",
    "    if count==10:\n",
    "        break\n",
    "words.reverse()\n",
    "print(words)"
   ]
  },
  {
   "cell_type": "code",
   "execution_count": 6,
   "id": "25c04147",
   "metadata": {},
   "outputs": [
    {
     "data": {
      "text/plain": [
       "[4,\n",
       " 3,\n",
       " 7,\n",
       " 3,\n",
       " 4,\n",
       " 7,\n",
       " 2,\n",
       " 4,\n",
       " 6,\n",
       " 2,\n",
       " 4,\n",
       " 5,\n",
       " 4,\n",
       " 5,\n",
       " 5,\n",
       " 5,\n",
       " 4,\n",
       " 5,\n",
       " 3,\n",
       " 9,\n",
       " 7,\n",
       " 5,\n",
       " 3,\n",
       " 4,\n",
       " 4,\n",
       " 7,\n",
       " 9,\n",
       " 4,\n",
       " 6,\n",
       " 5,\n",
       " 4,\n",
       " 4,\n",
       " 4,\n",
       " 5,\n",
       " 2,\n",
       " 6,\n",
       " 5]"
      ]
     },
     "execution_count": 6,
     "metadata": {},
     "output_type": "execute_result"
    }
   ],
   "source": [
    "lenlist=[len(i) for i in keylist]\n",
    "lenlist"
   ]
  },
  {
   "cell_type": "code",
   "execution_count": 7,
   "id": "6282c507",
   "metadata": {},
   "outputs": [
    {
     "data": {
      "text/plain": [
       "4.72972972972973"
      ]
     },
     "execution_count": 7,
     "metadata": {},
     "output_type": "execute_result"
    }
   ],
   "source": [
    "sum1=reduce(lambda x,y:x+y, lenlist)\n",
    "avg1=sum1/len(lenlist)\n",
    "avg1"
   ]
  },
  {
   "cell_type": "code",
   "execution_count": 8,
   "id": "423acabb",
   "metadata": {},
   "outputs": [
    {
     "data": {
      "text/plain": [
       "[9, 49, 9, 49, 25, 25, 25, 25, 25, 9, 81, 49, 25, 9, 49, 81, 25, 25, 25]"
      ]
     },
     "execution_count": 8,
     "metadata": {},
     "output_type": "execute_result"
    }
   ],
   "source": [
    "odd=[i**2 for i in lenlist if i%2!=0]\n",
    "odd"
   ]
  },
  {
   "cell_type": "code",
   "execution_count": null,
   "id": "1a69407c",
   "metadata": {},
   "outputs": [],
   "source": []
  }
 ],
 "metadata": {
  "kernelspec": {
   "display_name": "Python 3 (ipykernel)",
   "language": "python",
   "name": "python3"
  },
  "language_info": {
   "codemirror_mode": {
    "name": "ipython",
    "version": 3
   },
   "file_extension": ".py",
   "mimetype": "text/x-python",
   "name": "python",
   "nbconvert_exporter": "python",
   "pygments_lexer": "ipython3",
   "version": "3.9.12"
  }
 },
 "nbformat": 4,
 "nbformat_minor": 5
}
